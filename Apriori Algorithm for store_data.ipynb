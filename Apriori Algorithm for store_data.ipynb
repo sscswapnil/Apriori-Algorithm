Apriori Algorithm

# Before that install apyori library use below code 
# pip install apyori
# Import  libraries

import numpy as np
import matplotlib.pyplot as plt
import pandas as pd
from apyori import apriori

# lOad the Data sets

store_data = pd.read_csv('C:\\Users\\ssc\\Desktop\\Apriori Full In Detail\\store_data.csv')

# See the Data by using head function

store_data.head()

# Read data without hearders

store_data=pd.read_csv('C:\\Users\\ssc\\Desktop\\Apriori Full In Detail\\store_data.csv',header=None)

# Run For loop to remove all NAN Values

for i,j in enumerate(records):
    while 'nan' in records[i]: records[i].remove('nan')

# Creat empty list and After that append that list by using .append function below line converts dataframe
# into the list for that run for loop, while doing this also convert your data into string which help us
# for indexing and doing lots of operations.... By doing this transformation we are converting our data 
# Into required format which needed for apriori Algorithm 

records = []
for i in range(0, 7501):
    records.append([str(store_data.values[i,j]) for j in range(0, 20)])

# Run Apriori Algorithm for (min_support=0.0045, min_confidence=0.2, min_lift=3, min_length=4)

association_rules = apriori(records, min_support=0.0045, min_confidence=0.2, min_lift=3, min_length=4)
association_results = list(association_rules)

# See the results

print(len(association_results))

print(association_results[0])

# Run for loop to get whole results that we required

for item in association_results:
    pair = item[0] 
    items = [x for x in pair]
    print("Rule: " + items[0] + " -> " + items[1])
    print("Support: " + str(item[1]))
    print("Confidence: " + str(item[2][0][2]))
    print("Lift: " + str(item[2][0][3]))
    print("=====================================")


# lots of scope is there to modify this projects:- 1) Here we just find one to one association we can do
# One to many association Also

# Rocommender system Algorithms are the Advancement of this algorithm .... this algorithm provide simple and Basic Idea of Association...........
