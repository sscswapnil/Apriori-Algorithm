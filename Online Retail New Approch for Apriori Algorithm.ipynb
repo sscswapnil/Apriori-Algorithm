# SWAPNIL SANJAY CHAAVN
# Github Account - sscswapnil 

# Import imporatant library required for Algorithm and read the data sets

import pandas as pd
from mlxtend.frequent_patterns import apriori
from mlxtend.frequent_patterns import association_rules
df = pd.read_excel('Online_Retail.xlsx')
df.head()

# Data cleaning remoive the spaces and NA value from the datasets

df['Description'] = df['Description'].str.strip()
df.dropna(axis=0, subset=['InvoiceNo'], inplace=True)
df['InvoiceNo'] = df['InvoiceNo'].astype('str')
df = df[~df['InvoiceNo'].str.contains('C')]
df

# Just take france data for the further calculations

basket = (df[df['Country'] =="France"]
          .groupby(['InvoiceNo', 'Description'])['Quantity']
          .sum().unstack().reset_index().fillna(0)
          .set_index('InvoiceNo'))
basket

# convert All non converted values into 0 and 1

def encode_units(x):
    if x <= 0:
        return 0
    if x >= 1:
        return 1

# Convert data set into required format for apriori algorithm

basket_sets = basket.applymap(encode_units)
basket_sets.drop('POSTAGE', inplace=True, axis=1)
basket_sets

# Apply Apriori Algorithm to filter out the association in the basket

frequent_itemsets = apriori(basket_sets, min_support=0.07, use_colnames=True)
rules = association_rules(frequent_itemsets, metric="lift", min_threshold=1)
rules.head()


rules[ (rules['lift'] >= 6) &
      (rules['confidence'] >= 0.8) ]
